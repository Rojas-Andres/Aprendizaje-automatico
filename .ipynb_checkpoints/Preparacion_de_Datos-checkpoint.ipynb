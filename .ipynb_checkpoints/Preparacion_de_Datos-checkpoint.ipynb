{
 "cells": [
  {
   "cell_type": "code",
   "execution_count": 17,
   "metadata": {},
   "outputs": [],
   "source": [
    "#Importando librerias\n",
    "import numpy as np\n",
    "import pandas as pd\n",
    "import matplotlib.pyplot as plt  # Libreria para los graficos\n",
    "import seaborn as sb #Sobrecapa de matplotlib graficos estadisticos \n",
    "import os"
   ]
  },
  {
   "cell_type": "code",
   "execution_count": 3,
   "metadata": {},
   "outputs": [],
   "source": [
    "#Esta linea nos permite que los graficos sean renderizados directamente en nuestro notebook\n",
    "#Cargamos un pandas dataframe , nuestra bd\n",
    "#Nos permite al momento de graficar que aparezcan en el mismo notebook\n",
    "%matplotlib inline \n"
   ]
  },
  {
   "cell_type": "code",
   "execution_count": 20,
   "metadata": {},
   "outputs": [
    {
     "name": "stdout",
     "output_type": "stream",
     "text": [
      "C:\\Users\\ASUS\\PROYECTOS ANACONDA\n"
     ]
    }
   ],
   "source": [
    "#Nos permite importar los datos desde un csv y descargarlo en un dataframe, que es la estructura de pandas\n",
    "#print(os.getcwd()) Nos permite ver el directorio actual\n",
    "movies=pd.read_csv('DATOS\\peliculas.csv',encoding='utf-8')"
   ]
  }
 ],
 "metadata": {
  "kernelspec": {
   "display_name": "Python 3",
   "language": "python",
   "name": "python3"
  },
  "language_info": {
   "codemirror_mode": {
    "name": "ipython",
    "version": 3
   },
   "file_extension": ".py",
   "mimetype": "text/x-python",
   "name": "python",
   "nbconvert_exporter": "python",
   "pygments_lexer": "ipython3",
   "version": "3.7.6"
  }
 },
 "nbformat": 4,
 "nbformat_minor": 4
}
