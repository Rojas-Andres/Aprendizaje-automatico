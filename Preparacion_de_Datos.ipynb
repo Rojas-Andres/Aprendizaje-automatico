{
 "cells": [
  {
   "cell_type": "code",
   "execution_count": 17,
   "metadata": {},
   "outputs": [],
   "source": [
    "#Importando librerias\n",
    "import numpy as np\n",
    "import pandas as pd\n",
    "import matplotlib.pyplot as plt  # Libreria para los graficos\n",
    "import seaborn as sb #Sobrecapa de matplotlib graficos estadisticos \n",
    "import os"
   ]
  },
  {
   "cell_type": "code",
   "execution_count": 3,
   "metadata": {},
   "outputs": [],
   "source": [
    "#Esta linea nos permite que los graficos sean renderizados directamente en nuestro notebook\n",
    "#Cargamos un pandas dataframe , nuestra bd\n",
    "#Nos permite al momento de graficar que aparezcan en el mismo notebook\n",
    "%matplotlib inline \n"
   ]
  },
  {
   "cell_type": "code",
   "execution_count": 23,
   "metadata": {},
   "outputs": [],
   "source": [
    "#Nos permite importar los datos desde un csv y descargarlo en un dataframe, que es la estructura de pandas\n",
    "#print(os.getcwd()) Nos permite ver el directorio actual\n",
    "movies=pd.read_csv('DATOS\\peliculas.csv',encoding='utf-8') #Nos dijimos al directorio donde tenemos el .csv"
   ]
  },
  {
   "cell_type": "code",
   "execution_count": 22,
   "metadata": {},
   "outputs": [
    {
     "data": {
      "text/plain": [
       "pandas.core.frame.DataFrame"
      ]
     },
     "execution_count": 22,
     "metadata": {},
     "output_type": "execute_result"
    }
   ],
   "source": [
    "type(movies) # Es objeto Dataframe , con columnas y indices"
   ]
  },
  {
   "cell_type": "code",
   "execution_count": 25,
   "metadata": {},
   "outputs": [
    {
     "data": {
      "text/html": [
       "<div>\n",
       "<style scoped>\n",
       "    .dataframe tbody tr th:only-of-type {\n",
       "        vertical-align: middle;\n",
       "    }\n",
       "\n",
       "    .dataframe tbody tr th {\n",
       "        vertical-align: top;\n",
       "    }\n",
       "\n",
       "    .dataframe thead th {\n",
       "        text-align: right;\n",
       "    }\n",
       "</style>\n",
       "<table border=\"1\" class=\"dataframe\">\n",
       "  <thead>\n",
       "    <tr style=\"text-align: right;\">\n",
       "      <th></th>\n",
       "      <th>movie_title</th>\n",
       "      <th>title_year</th>\n",
       "      <th>color</th>\n",
       "      <th>aspect_ratio</th>\n",
       "      <th>duration</th>\n",
       "      <th>language</th>\n",
       "      <th>country</th>\n",
       "      <th>duration.1</th>\n",
       "      <th>genres</th>\n",
       "      <th>content_rating</th>\n",
       "      <th>plot_keywords</th>\n",
       "      <th>director_name</th>\n",
       "      <th>actor_1_name</th>\n",
       "      <th>actor_2_name</th>\n",
       "      <th>actor_3_name</th>\n",
       "      <th>cast_total_facebook_likes</th>\n",
       "      <th>budget</th>\n",
       "      <th>imdb_score</th>\n",
       "      <th>gross</th>\n",
       "    </tr>\n",
       "  </thead>\n",
       "  <tbody>\n",
       "    <tr>\n",
       "      <th>0</th>\n",
       "      <td>Avatar</td>\n",
       "      <td>2009.0</td>\n",
       "      <td>Color</td>\n",
       "      <td>1.78</td>\n",
       "      <td>178.0</td>\n",
       "      <td>English</td>\n",
       "      <td>USA</td>\n",
       "      <td>178.0</td>\n",
       "      <td>Action|Adventure|Fantasy|Sci-Fi</td>\n",
       "      <td>PG-13</td>\n",
       "      <td>avatar|future|marine|native|paraplegic</td>\n",
       "      <td>James Cameron</td>\n",
       "      <td>CCH Pounder</td>\n",
       "      <td>Joel David Moore</td>\n",
       "      <td>Wes Studi</td>\n",
       "      <td>4834</td>\n",
       "      <td>237000000.0</td>\n",
       "      <td>7.9</td>\n",
       "      <td>760505847.0</td>\n",
       "    </tr>\n",
       "    <tr>\n",
       "      <th>1</th>\n",
       "      <td>Pirates of the Caribbean: At World's End</td>\n",
       "      <td>2007.0</td>\n",
       "      <td>Color</td>\n",
       "      <td>2.35</td>\n",
       "      <td>169.0</td>\n",
       "      <td>English</td>\n",
       "      <td>USA</td>\n",
       "      <td>169.0</td>\n",
       "      <td>Action|Adventure|Fantasy</td>\n",
       "      <td>PG-13</td>\n",
       "      <td>goddess|marriage ceremony|marriage proposal|pi...</td>\n",
       "      <td>Gore Verbinski</td>\n",
       "      <td>Johnny Depp</td>\n",
       "      <td>Orlando Bloom</td>\n",
       "      <td>Jack Davenport</td>\n",
       "      <td>48350</td>\n",
       "      <td>300000000.0</td>\n",
       "      <td>7.1</td>\n",
       "      <td>309404152.0</td>\n",
       "    </tr>\n",
       "    <tr>\n",
       "      <th>2</th>\n",
       "      <td>Spectre</td>\n",
       "      <td>2015.0</td>\n",
       "      <td>Color</td>\n",
       "      <td>2.35</td>\n",
       "      <td>148.0</td>\n",
       "      <td>English</td>\n",
       "      <td>UK</td>\n",
       "      <td>148.0</td>\n",
       "      <td>Action|Adventure|Thriller</td>\n",
       "      <td>PG-13</td>\n",
       "      <td>bomb|espionage|sequel|spy|terrorist</td>\n",
       "      <td>Sam Mendes</td>\n",
       "      <td>Christoph Waltz</td>\n",
       "      <td>Rory Kinnear</td>\n",
       "      <td>Stephanie Sigman</td>\n",
       "      <td>11700</td>\n",
       "      <td>245000000.0</td>\n",
       "      <td>6.8</td>\n",
       "      <td>200074175.0</td>\n",
       "    </tr>\n",
       "    <tr>\n",
       "      <th>3</th>\n",
       "      <td>The Dark Knight Rises</td>\n",
       "      <td>2012.0</td>\n",
       "      <td>Color</td>\n",
       "      <td>2.35</td>\n",
       "      <td>164.0</td>\n",
       "      <td>English</td>\n",
       "      <td>USA</td>\n",
       "      <td>164.0</td>\n",
       "      <td>Action|Thriller</td>\n",
       "      <td>PG-13</td>\n",
       "      <td>deception|imprisonment|lawlessness|police offi...</td>\n",
       "      <td>Christopher Nolan</td>\n",
       "      <td>Tom Hardy</td>\n",
       "      <td>Christian Bale</td>\n",
       "      <td>Joseph Gordon-Levitt</td>\n",
       "      <td>106759</td>\n",
       "      <td>250000000.0</td>\n",
       "      <td>8.5</td>\n",
       "      <td>448130642.0</td>\n",
       "    </tr>\n",
       "    <tr>\n",
       "      <th>4</th>\n",
       "      <td>Star Wars: Episode VII - The Force Awakens    ...</td>\n",
       "      <td>NaN</td>\n",
       "      <td>NaN</td>\n",
       "      <td>NaN</td>\n",
       "      <td>NaN</td>\n",
       "      <td>NaN</td>\n",
       "      <td>NaN</td>\n",
       "      <td>NaN</td>\n",
       "      <td>Documentary</td>\n",
       "      <td>NaN</td>\n",
       "      <td>NaN</td>\n",
       "      <td>Doug Walker</td>\n",
       "      <td>Doug Walker</td>\n",
       "      <td>Rob Walker</td>\n",
       "      <td>NaN</td>\n",
       "      <td>143</td>\n",
       "      <td>NaN</td>\n",
       "      <td>7.1</td>\n",
       "      <td>NaN</td>\n",
       "    </tr>\n",
       "  </tbody>\n",
       "</table>\n",
       "</div>"
      ],
      "text/plain": [
       "                                         movie_title  title_year  color  \\\n",
       "0                                            Avatar       2009.0  Color   \n",
       "1          Pirates of the Caribbean: At World's End       2007.0  Color   \n",
       "2                                           Spectre       2015.0  Color   \n",
       "3                             The Dark Knight Rises       2012.0  Color   \n",
       "4  Star Wars: Episode VII - The Force Awakens    ...         NaN    NaN   \n",
       "\n",
       "   aspect_ratio  duration language country  duration.1  \\\n",
       "0          1.78     178.0  English     USA       178.0   \n",
       "1          2.35     169.0  English     USA       169.0   \n",
       "2          2.35     148.0  English      UK       148.0   \n",
       "3          2.35     164.0  English     USA       164.0   \n",
       "4           NaN       NaN      NaN     NaN         NaN   \n",
       "\n",
       "                            genres content_rating  \\\n",
       "0  Action|Adventure|Fantasy|Sci-Fi          PG-13   \n",
       "1         Action|Adventure|Fantasy          PG-13   \n",
       "2        Action|Adventure|Thriller          PG-13   \n",
       "3                  Action|Thriller          PG-13   \n",
       "4                      Documentary            NaN   \n",
       "\n",
       "                                       plot_keywords      director_name  \\\n",
       "0             avatar|future|marine|native|paraplegic      James Cameron   \n",
       "1  goddess|marriage ceremony|marriage proposal|pi...     Gore Verbinski   \n",
       "2                bomb|espionage|sequel|spy|terrorist         Sam Mendes   \n",
       "3  deception|imprisonment|lawlessness|police offi...  Christopher Nolan   \n",
       "4                                                NaN        Doug Walker   \n",
       "\n",
       "      actor_1_name      actor_2_name          actor_3_name  \\\n",
       "0      CCH Pounder  Joel David Moore             Wes Studi   \n",
       "1      Johnny Depp     Orlando Bloom        Jack Davenport   \n",
       "2  Christoph Waltz      Rory Kinnear      Stephanie Sigman   \n",
       "3        Tom Hardy    Christian Bale  Joseph Gordon-Levitt   \n",
       "4      Doug Walker        Rob Walker                   NaN   \n",
       "\n",
       "   cast_total_facebook_likes       budget  imdb_score        gross  \n",
       "0                       4834  237000000.0         7.9  760505847.0  \n",
       "1                      48350  300000000.0         7.1  309404152.0  \n",
       "2                      11700  245000000.0         6.8  200074175.0  \n",
       "3                     106759  250000000.0         8.5  448130642.0  \n",
       "4                        143          NaN         7.1          NaN  "
      ]
     },
     "execution_count": 25,
     "metadata": {},
     "output_type": "execute_result"
    }
   ],
   "source": [
    "movies.head() # 5 primeros elementos de un DataFrame"
   ]
  },
  {
   "cell_type": "code",
   "execution_count": 27,
   "metadata": {},
   "outputs": [
    {
     "data": {
      "text/plain": [
       "(5043, 19)"
      ]
     },
     "execution_count": 27,
     "metadata": {},
     "output_type": "execute_result"
    }
   ],
   "source": [
    "movies.shape "
   ]
  },
  {
   "cell_type": "code",
   "execution_count": 28,
   "metadata": {},
   "outputs": [
    {
     "data": {
      "text/plain": [
       "Index(['movie_title', 'title_year', 'color', 'aspect_ratio', 'duration',\n",
       "       'language', 'country', 'duration.1', 'genres', 'content_rating',\n",
       "       'plot_keywords', 'director_name', 'actor_1_name', 'actor_2_name',\n",
       "       'actor_3_name', 'cast_total_facebook_likes', 'budget', 'imdb_score',\n",
       "       'gross'],\n",
       "      dtype='object')"
      ]
     },
     "execution_count": 28,
     "metadata": {},
     "output_type": "execute_result"
    }
   ],
   "source": [
    "movies.columns #Columnas del dataframe"
   ]
  },
  {
   "cell_type": "code",
   "execution_count": 29,
   "metadata": {},
   "outputs": [
    {
     "data": {
      "text/plain": [
       "RangeIndex(start=0, stop=5043, step=1)"
      ]
     },
     "execution_count": 29,
     "metadata": {},
     "output_type": "execute_result"
    }
   ],
   "source": [
    "#Indices del datarfame\n",
    "movies.index"
   ]
  },
  {
   "cell_type": "code",
   "execution_count": 30,
   "metadata": {},
   "outputs": [],
   "source": [
    "columna1 = movies['movie_title']"
   ]
  },
  {
   "cell_type": "code",
   "execution_count": 34,
   "metadata": {},
   "outputs": [
    {
     "data": {
      "text/plain": [
       "0                                              Avatar \n",
       "1            Pirates of the Caribbean: At World's End \n",
       "2                                             Spectre \n",
       "3                               The Dark Knight Rises \n",
       "4    Star Wars: Episode VII - The Force Awakens    ...\n",
       "Name: movie_title, dtype: object"
      ]
     },
     "execution_count": 34,
     "metadata": {},
     "output_type": "execute_result"
    }
   ],
   "source": [
    "columna1.head() #Nos trae todo lo de esa columna es como el select movie_title from movies;"
   ]
  },
  {
   "cell_type": "code",
   "execution_count": null,
   "metadata": {},
   "outputs": [],
   "source": [
    "movies.loc[:,'movie_title'] #Todos los registros de la columa movie_tt"
   ]
  }
 ],
 "metadata": {
  "kernelspec": {
   "display_name": "Python 3",
   "language": "python",
   "name": "python3"
  },
  "language_info": {
   "codemirror_mode": {
    "name": "ipython",
    "version": 3
   },
   "file_extension": ".py",
   "mimetype": "text/x-python",
   "name": "python",
   "nbconvert_exporter": "python",
   "pygments_lexer": "ipython3",
   "version": "3.7.6"
  }
 },
 "nbformat": 4,
 "nbformat_minor": 4
}
